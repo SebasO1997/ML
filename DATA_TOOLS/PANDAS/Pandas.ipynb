{
 "cells": [
  {
   "cell_type": "markdown",
   "metadata": {},
   "source": [
    "## PANDAS"
   ]
  },
  {
   "cell_type": "code",
   "execution_count": 1,
   "metadata": {},
   "outputs": [],
   "source": [
    "import pandas as pd\n",
    "import numpy as np"
   ]
  },
  {
   "cell_type": "markdown",
   "metadata": {},
   "source": [
    "### 1. Creacion y manipulacion de Series "
   ]
  },
  {
   "cell_type": "markdown",
   "metadata": {},
   "source": [
    "#### Creacion de Series"
   ]
  },
  {
   "cell_type": "code",
   "execution_count": 2,
   "metadata": {},
   "outputs": [],
   "source": [
    "indice =['Juan', 'Maria', 'Francisco', 'Pedro', 'Luis']\n",
    "datos_lista = np.random.randint(20,40, size =(5))"
   ]
  },
  {
   "cell_type": "code",
   "execution_count": 3,
   "metadata": {},
   "outputs": [
    {
     "data": {
      "text/plain": [
       "Juan         33\n",
       "Maria        33\n",
       "Francisco    28\n",
       "Pedro        37\n",
       "Luis         35\n",
       "dtype: int32"
      ]
     },
     "execution_count": 3,
     "metadata": {},
     "output_type": "execute_result"
    }
   ],
   "source": [
    "## Creando la serie\n",
    "edades =  pd.Series(datos_lista, indice)\n",
    "edades"
   ]
  },
  {
   "cell_type": "code",
   "execution_count": 4,
   "metadata": {},
   "outputs": [],
   "source": [
    "## Diccionario\n",
    "datos_diccionario = {'Juan':31, 'Maria':22, 'Francisco':36, 'Pedro':29, 'Luis':24}\n",
    "edades_dic = pd.Series(datos_diccionario)"
   ]
  },
  {
   "cell_type": "markdown",
   "metadata": {},
   "source": [
    "#### Atributos y acceso a los elementos de una series"
   ]
  },
  {
   "cell_type": "code",
   "execution_count": 5,
   "metadata": {},
   "outputs": [
    {
     "data": {
      "text/plain": [
       "(dtype('int32'),\n",
       " 5,\n",
       " Index(['Juan', 'Maria', 'Francisco', 'Pedro', 'Luis'], dtype='object'),\n",
       " array([33, 33, 28, 37, 35]))"
      ]
     },
     "execution_count": 5,
     "metadata": {},
     "output_type": "execute_result"
    }
   ],
   "source": [
    "edades.dtype, edades.size, edades.index, edades.values"
   ]
  },
  {
   "cell_type": "code",
   "execution_count": 6,
   "metadata": {},
   "outputs": [
    {
     "name": "stdout",
     "output_type": "stream",
     "text": [
      "33\n",
      "33\n",
      "28\n",
      "37\n",
      "35\n"
     ]
    }
   ],
   "source": [
    "for elemento in edades:\n",
    "    print(elemento)"
   ]
  },
  {
   "cell_type": "code",
   "execution_count": 7,
   "metadata": {},
   "outputs": [
    {
     "name": "stdout",
     "output_type": "stream",
     "text": [
      "Juan\n",
      "Maria\n",
      "Francisco\n",
      "Pedro\n",
      "Luis\n"
     ]
    }
   ],
   "source": [
    "for elemento in edades.index:\n",
    "    print(elemento)"
   ]
  },
  {
   "cell_type": "code",
   "execution_count": 8,
   "metadata": {},
   "outputs": [
    {
     "name": "stdout",
     "output_type": "stream",
     "text": [
      "33\n",
      "33\n",
      "28\n",
      "37\n",
      "35\n"
     ]
    }
   ],
   "source": [
    "for elemento in edades.values:\n",
    "    print(elemento)"
   ]
  },
  {
   "cell_type": "code",
   "execution_count": 9,
   "metadata": {},
   "outputs": [
    {
     "data": {
      "text/plain": [
       "array([33, 33, 28, 37, 35])"
      ]
     },
     "execution_count": 9,
     "metadata": {},
     "output_type": "execute_result"
    }
   ],
   "source": [
    "edades.values"
   ]
  },
  {
   "cell_type": "code",
   "execution_count": 10,
   "metadata": {},
   "outputs": [
    {
     "data": {
      "text/plain": [
       "33"
      ]
     },
     "execution_count": 10,
     "metadata": {},
     "output_type": "execute_result"
    }
   ],
   "source": [
    "# consultar una edad\n",
    "edades['Juan']"
   ]
  },
  {
   "cell_type": "code",
   "execution_count": 11,
   "metadata": {},
   "outputs": [
    {
     "data": {
      "text/plain": [
       "Juan     33\n",
       "Maria    33\n",
       "Luis     35\n",
       "dtype: int32"
      ]
     },
     "execution_count": 11,
     "metadata": {},
     "output_type": "execute_result"
    }
   ],
   "source": [
    "## Puedo pasar una lista de las personas que quiero conocer la edad\n",
    "edades[['Juan', 'Maria', 'Luis']]"
   ]
  },
  {
   "cell_type": "code",
   "execution_count": 12,
   "metadata": {},
   "outputs": [
    {
     "data": {
      "text/plain": [
       "(33,\n",
       " Juan         33\n",
       " Maria        33\n",
       " Francisco    28\n",
       " dtype: int32,\n",
       " Francisco    28\n",
       " Luis         35\n",
       " dtype: int32)"
      ]
     },
     "execution_count": 12,
     "metadata": {},
     "output_type": "execute_result"
    }
   ],
   "source": [
    "## Consulta con posicion\n",
    "edades[0], edades[0:3], edades[[2,4]]"
   ]
  },
  {
   "cell_type": "markdown",
   "metadata": {},
   "source": [
    "#### Metodos basicos comunes "
   ]
  },
  {
   "cell_type": "markdown",
   "metadata": {},
   "source": [
    "#### __Cambiar tipo de datos__"
   ]
  },
  {
   "cell_type": "code",
   "execution_count": 13,
   "metadata": {},
   "outputs": [
    {
     "data": {
      "text/plain": [
       "Juan         33\n",
       "Maria        33\n",
       "Francisco    28\n",
       "Pedro        37\n",
       "Luis         35\n",
       "dtype: int16"
      ]
     },
     "execution_count": 13,
     "metadata": {},
     "output_type": "execute_result"
    }
   ],
   "source": [
    "edades.astype('i2')"
   ]
  },
  {
   "cell_type": "code",
   "execution_count": 14,
   "metadata": {},
   "outputs": [
    {
     "data": {
      "text/plain": [
       "33    2\n",
       "28    1\n",
       "37    1\n",
       "35    1\n",
       "Name: count, dtype: int64"
      ]
     },
     "execution_count": 14,
     "metadata": {},
     "output_type": "execute_result"
    }
   ],
   "source": [
    "## Conteo de datos \n",
    "edades.value_counts()"
   ]
  },
  {
   "cell_type": "code",
   "execution_count": 15,
   "metadata": {},
   "outputs": [
    {
     "data": {
      "text/plain": [
       "Francisco    28\n",
       "Juan         33\n",
       "Maria        33\n",
       "Luis         35\n",
       "Pedro        37\n",
       "dtype: int32"
      ]
     },
     "execution_count": 15,
     "metadata": {},
     "output_type": "execute_result"
    }
   ],
   "source": [
    "# ordenar los datos por valores\n",
    "edades.sort_values()"
   ]
  },
  {
   "cell_type": "code",
   "execution_count": 16,
   "metadata": {},
   "outputs": [],
   "source": [
    "# ordenar los datos por index\n",
    "edades.sort_index(inplace=True)"
   ]
  },
  {
   "cell_type": "markdown",
   "metadata": {},
   "source": [
    "#### Operaciones vectoriales aritmeticas"
   ]
  },
  {
   "cell_type": "code",
   "execution_count": 17,
   "metadata": {},
   "outputs": [
    {
     "data": {
      "text/plain": [
       "Francisco    28\n",
       "Juan         33\n",
       "Luis         35\n",
       "Maria        33\n",
       "Pedro        37\n",
       "dtype: int32"
      ]
     },
     "execution_count": 17,
     "metadata": {},
     "output_type": "execute_result"
    }
   ],
   "source": [
    "edades + 1 # son muy eficientes, es mejor utilizar numpy\n",
    "edades / 1 # son muy eficientes, es mejor utilizar numpy\n",
    "edades * 1 # son muy eficientes, es mejor utilizar numpy"
   ]
  },
  {
   "cell_type": "code",
   "execution_count": 18,
   "metadata": {},
   "outputs": [
    {
     "data": {
      "text/plain": [
       "Francisco    56\n",
       "Juan         66\n",
       "Luis         70\n",
       "Maria        66\n",
       "Pedro        74\n",
       "dtype: int32"
      ]
     },
     "execution_count": 18,
     "metadata": {},
     "output_type": "execute_result"
    }
   ],
   "source": [
    "## Entre series \n",
    "edades+edades"
   ]
  },
  {
   "cell_type": "markdown",
   "metadata": {},
   "source": [
    "#### Funciones de estadistica y agregacion basicas "
   ]
  },
  {
   "cell_type": "code",
   "execution_count": 19,
   "metadata": {},
   "outputs": [
    {
     "data": {
      "text/plain": [
       "Francisco    28\n",
       "Juan         33\n",
       "Luis         35\n",
       "Maria        33\n",
       "Pedro        37\n",
       "dtype: int32"
      ]
     },
     "execution_count": 19,
     "metadata": {},
     "output_type": "execute_result"
    }
   ],
   "source": [
    "edades"
   ]
  },
  {
   "cell_type": "code",
   "execution_count": 20,
   "metadata": {},
   "outputs": [
    {
     "data": {
      "text/plain": [
       "(37, 4, 28, 0, 166)"
      ]
     },
     "execution_count": 20,
     "metadata": {},
     "output_type": "execute_result"
    }
   ],
   "source": [
    "edades.max(), edades.argmax(), edades.min(), edades.argmin(), edades.sum()"
   ]
  },
  {
   "cell_type": "code",
   "execution_count": 21,
   "metadata": {},
   "outputs": [
    {
     "name": "stdout",
     "output_type": "stream",
     "text": [
      "0    33\n",
      "dtype: int32  moda\n",
      "\n",
      "33.0 , mediana\n",
      "\n",
      "33.2 , promedio \n",
      "\n",
      "3.3466401061363023 , std\n",
      "\n",
      "5 count\n"
     ]
    }
   ],
   "source": [
    "print(edades.mode(),' moda\\n') # dato que más se repite\n",
    "print(edades.median(),', mediana\\n') # dato del medio \n",
    "print(edades.mean(),', promedio \\n') # promedio\n",
    "print(edades.std(), ', std\\n') # dispersion de los datos\n",
    "print(edades.count(), 'count')"
   ]
  },
  {
   "cell_type": "code",
   "execution_count": 22,
   "metadata": {},
   "outputs": [
    {
     "data": {
      "text/plain": [
       "count     5.00000\n",
       "mean     33.20000\n",
       "std       3.34664\n",
       "min      28.00000\n",
       "25%      33.00000\n",
       "50%      33.00000\n",
       "75%      35.00000\n",
       "max      37.00000\n",
       "dtype: float64"
      ]
     },
     "execution_count": 22,
     "metadata": {},
     "output_type": "execute_result"
    }
   ],
   "source": [
    "edades.describe() # operaciones estadistica y quartiles"
   ]
  },
  {
   "cell_type": "code",
   "execution_count": 23,
   "metadata": {},
   "outputs": [
    {
     "data": {
      "text/plain": [
       "33.0"
      ]
     },
     "execution_count": 23,
     "metadata": {},
     "output_type": "execute_result"
    }
   ],
   "source": [
    "edades.quantile(0.25)"
   ]
  },
  {
   "cell_type": "markdown",
   "metadata": {},
   "source": [
    "### 2. Data Frames"
   ]
  },
  {
   "cell_type": "markdown",
   "metadata": {},
   "source": [
    "#### Creacion del dataFrame"
   ]
  },
  {
   "cell_type": "code",
   "execution_count": 24,
   "metadata": {},
   "outputs": [
    {
     "data": {
      "text/plain": [
       "array([[ 290.        ,   17.09585091],\n",
       "       [ 149.        ,    7.13488199],\n",
       "       [ 757.        ,   10.94349553],\n",
       "       [ 298.        ,    9.74248569],\n",
       "       [ 622.        ,   13.14665714],\n",
       "       [1205.        ,    3.97153882],\n",
       "       [ 858.        ,   11.0180456 ],\n",
       "       [ 849.        ,   15.50761835],\n",
       "       [ 483.        ,    5.32258295]])"
      ]
     },
     "execution_count": 24,
     "metadata": {},
     "output_type": "execute_result"
    }
   ],
   "source": [
    "nombre_paises= ['Argentina','Bolivia','Colombia','Ecuador','Chile', 'Peru', 'Venenzuela', 'Uruguay','Brasil']\n",
    "\n",
    "encabezado = ['poblacion', 'porcentaje']\n",
    "\n",
    "datos_poblacion = np.random.randint(120,1400, size=(9))\n",
    "datos_porcentaje = np.random.uniform(1.1,18.5, size=(9))\n",
    "\n",
    "datos = np.stack((datos_poblacion, datos_porcentaje), axis=1)\n",
    "datos"
   ]
  },
  {
   "cell_type": "code",
   "execution_count": 25,
   "metadata": {},
   "outputs": [
    {
     "data": {
      "text/plain": [
       "['Argentina',\n",
       " 'Bolivia',\n",
       " 'Colombia',\n",
       " 'Ecuador',\n",
       " 'Chile',\n",
       " 'Peru',\n",
       " 'Venenzuela',\n",
       " 'Uruguay',\n",
       " 'Brasil']"
      ]
     },
     "execution_count": 25,
     "metadata": {},
     "output_type": "execute_result"
    }
   ],
   "source": [
    "nombre_paises"
   ]
  },
  {
   "cell_type": "code",
   "execution_count": 26,
   "metadata": {},
   "outputs": [
    {
     "data": {
      "text/html": [
       "<div>\n",
       "<style scoped>\n",
       "    .dataframe tbody tr th:only-of-type {\n",
       "        vertical-align: middle;\n",
       "    }\n",
       "\n",
       "    .dataframe tbody tr th {\n",
       "        vertical-align: top;\n",
       "    }\n",
       "\n",
       "    .dataframe thead th {\n",
       "        text-align: right;\n",
       "    }\n",
       "</style>\n",
       "<table border=\"1\" class=\"dataframe\">\n",
       "  <thead>\n",
       "    <tr style=\"text-align: right;\">\n",
       "      <th></th>\n",
       "      <th>poblacion</th>\n",
       "      <th>porcentaje</th>\n",
       "    </tr>\n",
       "  </thead>\n",
       "  <tbody>\n",
       "    <tr>\n",
       "      <th>Argentina</th>\n",
       "      <td>290.0</td>\n",
       "      <td>17.095851</td>\n",
       "    </tr>\n",
       "    <tr>\n",
       "      <th>Bolivia</th>\n",
       "      <td>149.0</td>\n",
       "      <td>7.134882</td>\n",
       "    </tr>\n",
       "    <tr>\n",
       "      <th>Colombia</th>\n",
       "      <td>757.0</td>\n",
       "      <td>10.943496</td>\n",
       "    </tr>\n",
       "    <tr>\n",
       "      <th>Ecuador</th>\n",
       "      <td>298.0</td>\n",
       "      <td>9.742486</td>\n",
       "    </tr>\n",
       "    <tr>\n",
       "      <th>Chile</th>\n",
       "      <td>622.0</td>\n",
       "      <td>13.146657</td>\n",
       "    </tr>\n",
       "    <tr>\n",
       "      <th>Peru</th>\n",
       "      <td>1205.0</td>\n",
       "      <td>3.971539</td>\n",
       "    </tr>\n",
       "    <tr>\n",
       "      <th>Venenzuela</th>\n",
       "      <td>858.0</td>\n",
       "      <td>11.018046</td>\n",
       "    </tr>\n",
       "    <tr>\n",
       "      <th>Uruguay</th>\n",
       "      <td>849.0</td>\n",
       "      <td>15.507618</td>\n",
       "    </tr>\n",
       "    <tr>\n",
       "      <th>Brasil</th>\n",
       "      <td>483.0</td>\n",
       "      <td>5.322583</td>\n",
       "    </tr>\n",
       "  </tbody>\n",
       "</table>\n",
       "</div>"
      ],
      "text/plain": [
       "            poblacion  porcentaje\n",
       "Argentina       290.0   17.095851\n",
       "Bolivia         149.0    7.134882\n",
       "Colombia        757.0   10.943496\n",
       "Ecuador         298.0    9.742486\n",
       "Chile           622.0   13.146657\n",
       "Peru           1205.0    3.971539\n",
       "Venenzuela      858.0   11.018046\n",
       "Uruguay         849.0   15.507618\n",
       "Brasil          483.0    5.322583"
      ]
     },
     "execution_count": 26,
     "metadata": {},
     "output_type": "execute_result"
    }
   ],
   "source": [
    "data = pd.DataFrame(datos, columns=encabezado, index=nombre_paises)\n",
    "data"
   ]
  },
  {
   "cell_type": "code",
   "execution_count": 27,
   "metadata": {},
   "outputs": [],
   "source": [
    "diccionario_datos = {'Argentina':[1392, 3.48904991],\n",
    "                      'Bolivia':[ 586,10.53898724],\n",
    "                      'Colombia':[ 686,10.00989397],\n",
    "                      'Ecuador':[ 212,17.87305881],\n",
    "                      'Chile':[ 984,18.16843738],\n",
    "                      'Peru':[1247,17.47538144],\n",
    "                      'Venenzuela':[1148, 4.57475614],\n",
    "                      'Uruguay':[1268,12.69308122],\n",
    "                      'Brasil':[1207, 8.17267596]}"
   ]
  },
  {
   "cell_type": "code",
   "execution_count": 28,
   "metadata": {},
   "outputs": [
    {
     "data": {
      "text/html": [
       "<div>\n",
       "<style scoped>\n",
       "    .dataframe tbody tr th:only-of-type {\n",
       "        vertical-align: middle;\n",
       "    }\n",
       "\n",
       "    .dataframe tbody tr th {\n",
       "        vertical-align: top;\n",
       "    }\n",
       "\n",
       "    .dataframe thead th {\n",
       "        text-align: right;\n",
       "    }\n",
       "</style>\n",
       "<table border=\"1\" class=\"dataframe\">\n",
       "  <thead>\n",
       "    <tr style=\"text-align: right;\">\n",
       "      <th></th>\n",
       "      <th>poblacion</th>\n",
       "      <th>porcentaje</th>\n",
       "    </tr>\n",
       "  </thead>\n",
       "  <tbody>\n",
       "    <tr>\n",
       "      <th>Argentina</th>\n",
       "      <td>1392.0</td>\n",
       "      <td>3.489050</td>\n",
       "    </tr>\n",
       "    <tr>\n",
       "      <th>Bolivia</th>\n",
       "      <td>586.0</td>\n",
       "      <td>10.538987</td>\n",
       "    </tr>\n",
       "    <tr>\n",
       "      <th>Colombia</th>\n",
       "      <td>686.0</td>\n",
       "      <td>10.009894</td>\n",
       "    </tr>\n",
       "    <tr>\n",
       "      <th>Ecuador</th>\n",
       "      <td>212.0</td>\n",
       "      <td>17.873059</td>\n",
       "    </tr>\n",
       "    <tr>\n",
       "      <th>Chile</th>\n",
       "      <td>984.0</td>\n",
       "      <td>18.168437</td>\n",
       "    </tr>\n",
       "    <tr>\n",
       "      <th>Peru</th>\n",
       "      <td>1247.0</td>\n",
       "      <td>17.475381</td>\n",
       "    </tr>\n",
       "    <tr>\n",
       "      <th>Venenzuela</th>\n",
       "      <td>1148.0</td>\n",
       "      <td>4.574756</td>\n",
       "    </tr>\n",
       "    <tr>\n",
       "      <th>Uruguay</th>\n",
       "      <td>1268.0</td>\n",
       "      <td>12.693081</td>\n",
       "    </tr>\n",
       "    <tr>\n",
       "      <th>Brasil</th>\n",
       "      <td>1207.0</td>\n",
       "      <td>8.172676</td>\n",
       "    </tr>\n",
       "  </tbody>\n",
       "</table>\n",
       "</div>"
      ],
      "text/plain": [
       "            poblacion  porcentaje\n",
       "Argentina      1392.0    3.489050\n",
       "Bolivia         586.0   10.538987\n",
       "Colombia        686.0   10.009894\n",
       "Ecuador         212.0   17.873059\n",
       "Chile           984.0   18.168437\n",
       "Peru           1247.0   17.475381\n",
       "Venenzuela     1148.0    4.574756\n",
       "Uruguay        1268.0   12.693081\n",
       "Brasil         1207.0    8.172676"
      ]
     },
     "execution_count": 28,
     "metadata": {},
     "output_type": "execute_result"
    }
   ],
   "source": [
    "data_paises = pd.DataFrame(diccionario_datos, index=encabezado).transpose()\n",
    "data_paises"
   ]
  },
  {
   "cell_type": "markdown",
   "metadata": {},
   "source": [
    "#### Atributos de un DataFrame"
   ]
  },
  {
   "cell_type": "code",
   "execution_count": 29,
   "metadata": {},
   "outputs": [
    {
     "data": {
      "text/plain": [
       "poblacion     float64\n",
       "porcentaje    float64\n",
       "dtype: object"
      ]
     },
     "execution_count": 29,
     "metadata": {},
     "output_type": "execute_result"
    }
   ],
   "source": [
    "data_paises.dtypes"
   ]
  },
  {
   "cell_type": "code",
   "execution_count": 30,
   "metadata": {},
   "outputs": [
    {
     "data": {
      "text/plain": [
       "(array([[1392.        ,    3.48904991],\n",
       "        [ 586.        ,   10.53898724],\n",
       "        [ 686.        ,   10.00989397],\n",
       "        [ 212.        ,   17.87305881],\n",
       "        [ 984.        ,   18.16843738],\n",
       "        [1247.        ,   17.47538144],\n",
       "        [1148.        ,    4.57475614],\n",
       "        [1268.        ,   12.69308122],\n",
       "        [1207.        ,    8.17267596]]),\n",
       " 18)"
      ]
     },
     "execution_count": 30,
     "metadata": {},
     "output_type": "execute_result"
    }
   ],
   "source": [
    "data_paises.values, data_paises.size"
   ]
  },
  {
   "cell_type": "code",
   "execution_count": 31,
   "metadata": {},
   "outputs": [
    {
     "data": {
      "text/plain": [
       "(Index(['Argentina', 'Bolivia', 'Colombia', 'Ecuador', 'Chile', 'Peru',\n",
       "        'Venenzuela', 'Uruguay', 'Brasil'],\n",
       "       dtype='object'),\n",
       " Index(['poblacion', 'porcentaje'], dtype='object'))"
      ]
     },
     "execution_count": 31,
     "metadata": {},
     "output_type": "execute_result"
    }
   ],
   "source": [
    "data_paises.index, data_paises.columns"
   ]
  },
  {
   "cell_type": "markdown",
   "metadata": {},
   "source": [
    "#### Acceso a los elementos "
   ]
  },
  {
   "cell_type": "code",
   "execution_count": 32,
   "metadata": {},
   "outputs": [
    {
     "data": {
      "text/plain": [
       "Argentina     1392.0\n",
       "Bolivia        586.0\n",
       "Colombia       686.0\n",
       "Ecuador        212.0\n",
       "Chile          984.0\n",
       "Peru          1247.0\n",
       "Venenzuela    1148.0\n",
       "Uruguay       1268.0\n",
       "Brasil        1207.0\n",
       "Name: poblacion, dtype: float64"
      ]
     },
     "execution_count": 32,
     "metadata": {},
     "output_type": "execute_result"
    }
   ],
   "source": [
    "data_paises.poblacion"
   ]
  },
  {
   "cell_type": "code",
   "execution_count": 33,
   "metadata": {},
   "outputs": [
    {
     "data": {
      "text/plain": [
       "Argentina     1392.0\n",
       "Bolivia        586.0\n",
       "Colombia       686.0\n",
       "Ecuador        212.0\n",
       "Chile          984.0\n",
       "Peru          1247.0\n",
       "Venenzuela    1148.0\n",
       "Uruguay       1268.0\n",
       "Brasil        1207.0\n",
       "Name: poblacion, dtype: float64"
      ]
     },
     "execution_count": 33,
     "metadata": {},
     "output_type": "execute_result"
    }
   ],
   "source": [
    "data_paises['poblacion']\n",
    "data_paises.poblacion"
   ]
  },
  {
   "cell_type": "code",
   "execution_count": 34,
   "metadata": {},
   "outputs": [
    {
     "data": {
      "text/plain": [
       "(            poblacion  porcentaje\n",
       " Argentina      1392.0    3.489050\n",
       " Bolivia         586.0   10.538987\n",
       " Colombia        686.0   10.009894\n",
       " Ecuador         212.0   17.873059\n",
       " Chile           984.0   18.168437\n",
       " Peru           1247.0   17.475381\n",
       " Venenzuela     1148.0    4.574756\n",
       " Uruguay        1268.0   12.693081\n",
       " Brasil         1207.0    8.172676,\n",
       " Argentina      3.489050\n",
       " Bolivia       10.538987\n",
       " Colombia      10.009894\n",
       " Ecuador       17.873059\n",
       " Chile         18.168437\n",
       " Peru          17.475381\n",
       " Venenzuela     4.574756\n",
       " Uruguay       12.693081\n",
       " Brasil         8.172676\n",
       " Name: porcentaje, dtype: float64)"
      ]
     },
     "execution_count": 34,
     "metadata": {},
     "output_type": "execute_result"
    }
   ],
   "source": [
    "data_paises[['poblacion', 'porcentaje']], data_paises['porcentaje']"
   ]
  },
  {
   "cell_type": "code",
   "execution_count": 35,
   "metadata": {},
   "outputs": [
    {
     "data": {
      "text/plain": [
       "(1392.0,\n",
       " 1392.0,\n",
       " Argentina    1392.0\n",
       " Bolivia       586.0\n",
       " Colombia      686.0\n",
       " Name: poblacion, dtype: float64)"
      ]
     },
     "execution_count": 35,
     "metadata": {},
     "output_type": "execute_result"
    }
   ],
   "source": [
    "data_paises['poblacion'][0], data_paises.poblacion[0], data_paises['poblacion'][0:3]"
   ]
  },
  {
   "cell_type": "markdown",
   "metadata": {},
   "source": [
    "#### Iloc, Loc"
   ]
  },
  {
   "cell_type": "code",
   "execution_count": 36,
   "metadata": {},
   "outputs": [
    {
     "data": {
      "text/plain": [
       "(poblacion     1392.00000\n",
       " porcentaje       3.48905\n",
       " Name: Argentina, dtype: float64,\n",
       " poblacion     686.000000\n",
       " porcentaje     10.009894\n",
       " Name: Colombia, dtype: float64)"
      ]
     },
     "execution_count": 36,
     "metadata": {},
     "output_type": "execute_result"
    }
   ],
   "source": [
    "data_paises.iloc[0], data_paises.loc['Colombia']"
   ]
  },
  {
   "cell_type": "markdown",
   "metadata": {},
   "source": [
    "#### Metodos basicos comunes de DataFrames"
   ]
  },
  {
   "cell_type": "code",
   "execution_count": 37,
   "metadata": {},
   "outputs": [],
   "source": [
    "## Cambiar tipo de datos \n",
    "data_paises['poblacion'] = data_paises['poblacion'].astype('int')"
   ]
  },
  {
   "cell_type": "code",
   "execution_count": 38,
   "metadata": {},
   "outputs": [
    {
     "name": "stdout",
     "output_type": "stream",
     "text": [
      "<class 'pandas.core.frame.DataFrame'>\n",
      "Index: 9 entries, Argentina to Brasil\n",
      "Data columns (total 2 columns):\n",
      " #   Column      Non-Null Count  Dtype  \n",
      "---  ------      --------------  -----  \n",
      " 0   poblacion   9 non-null      int32  \n",
      " 1   porcentaje  9 non-null      float64\n",
      "dtypes: float64(1), int32(1)\n",
      "memory usage: 480.0+ bytes\n"
     ]
    }
   ],
   "source": [
    "data_paises.info()"
   ]
  },
  {
   "cell_type": "code",
   "execution_count": 39,
   "metadata": {},
   "outputs": [
    {
     "data": {
      "text/html": [
       "<div>\n",
       "<style scoped>\n",
       "    .dataframe tbody tr th:only-of-type {\n",
       "        vertical-align: middle;\n",
       "    }\n",
       "\n",
       "    .dataframe tbody tr th {\n",
       "        vertical-align: top;\n",
       "    }\n",
       "\n",
       "    .dataframe thead th {\n",
       "        text-align: right;\n",
       "    }\n",
       "</style>\n",
       "<table border=\"1\" class=\"dataframe\">\n",
       "  <thead>\n",
       "    <tr style=\"text-align: right;\">\n",
       "      <th></th>\n",
       "      <th>poblacion</th>\n",
       "      <th>porcentaje</th>\n",
       "    </tr>\n",
       "  </thead>\n",
       "  <tbody>\n",
       "    <tr>\n",
       "      <th>Chile</th>\n",
       "      <td>984</td>\n",
       "      <td>18.168437</td>\n",
       "    </tr>\n",
       "    <tr>\n",
       "      <th>Ecuador</th>\n",
       "      <td>212</td>\n",
       "      <td>17.873059</td>\n",
       "    </tr>\n",
       "    <tr>\n",
       "      <th>Peru</th>\n",
       "      <td>1247</td>\n",
       "      <td>17.475381</td>\n",
       "    </tr>\n",
       "    <tr>\n",
       "      <th>Uruguay</th>\n",
       "      <td>1268</td>\n",
       "      <td>12.693081</td>\n",
       "    </tr>\n",
       "    <tr>\n",
       "      <th>Bolivia</th>\n",
       "      <td>586</td>\n",
       "      <td>10.538987</td>\n",
       "    </tr>\n",
       "    <tr>\n",
       "      <th>Colombia</th>\n",
       "      <td>686</td>\n",
       "      <td>10.009894</td>\n",
       "    </tr>\n",
       "    <tr>\n",
       "      <th>Brasil</th>\n",
       "      <td>1207</td>\n",
       "      <td>8.172676</td>\n",
       "    </tr>\n",
       "    <tr>\n",
       "      <th>Venenzuela</th>\n",
       "      <td>1148</td>\n",
       "      <td>4.574756</td>\n",
       "    </tr>\n",
       "    <tr>\n",
       "      <th>Argentina</th>\n",
       "      <td>1392</td>\n",
       "      <td>3.489050</td>\n",
       "    </tr>\n",
       "  </tbody>\n",
       "</table>\n",
       "</div>"
      ],
      "text/plain": [
       "            poblacion  porcentaje\n",
       "Chile             984   18.168437\n",
       "Ecuador           212   17.873059\n",
       "Peru             1247   17.475381\n",
       "Uruguay          1268   12.693081\n",
       "Bolivia           586   10.538987\n",
       "Colombia          686   10.009894\n",
       "Brasil           1207    8.172676\n",
       "Venenzuela       1148    4.574756\n",
       "Argentina        1392    3.489050"
      ]
     },
     "execution_count": 39,
     "metadata": {},
     "output_type": "execute_result"
    }
   ],
   "source": [
    "data_paises.sort_values(by = ['porcentaje'], ascending=False)"
   ]
  },
  {
   "cell_type": "markdown",
   "metadata": {},
   "source": [
    "#### Agregar y borrar reglones y columnas"
   ]
  },
  {
   "cell_type": "markdown",
   "metadata": {},
   "source": [
    "#### __Columnas__"
   ]
  },
  {
   "cell_type": "code",
   "execution_count": 40,
   "metadata": {},
   "outputs": [],
   "source": [
    "tasa_fertilidad = np.random.uniform(1.1,5.5, size=(9))"
   ]
  },
  {
   "cell_type": "code",
   "execution_count": 41,
   "metadata": {},
   "outputs": [],
   "source": [
    "## Agregar columnas\n",
    "data_paises['tasa_fertilidad'] = tasa_fertilidad"
   ]
  },
  {
   "cell_type": "code",
   "execution_count": 42,
   "metadata": {},
   "outputs": [
    {
     "data": {
      "text/html": [
       "<div>\n",
       "<style scoped>\n",
       "    .dataframe tbody tr th:only-of-type {\n",
       "        vertical-align: middle;\n",
       "    }\n",
       "\n",
       "    .dataframe tbody tr th {\n",
       "        vertical-align: top;\n",
       "    }\n",
       "\n",
       "    .dataframe thead th {\n",
       "        text-align: right;\n",
       "    }\n",
       "</style>\n",
       "<table border=\"1\" class=\"dataframe\">\n",
       "  <thead>\n",
       "    <tr style=\"text-align: right;\">\n",
       "      <th></th>\n",
       "      <th>poblacion</th>\n",
       "      <th>porcentaje</th>\n",
       "      <th>tasa_fertilidad</th>\n",
       "    </tr>\n",
       "  </thead>\n",
       "  <tbody>\n",
       "    <tr>\n",
       "      <th>Argentina</th>\n",
       "      <td>1392</td>\n",
       "      <td>3.489050</td>\n",
       "      <td>5.463993</td>\n",
       "    </tr>\n",
       "    <tr>\n",
       "      <th>Bolivia</th>\n",
       "      <td>586</td>\n",
       "      <td>10.538987</td>\n",
       "      <td>1.875991</td>\n",
       "    </tr>\n",
       "    <tr>\n",
       "      <th>Colombia</th>\n",
       "      <td>686</td>\n",
       "      <td>10.009894</td>\n",
       "      <td>2.828785</td>\n",
       "    </tr>\n",
       "    <tr>\n",
       "      <th>Ecuador</th>\n",
       "      <td>212</td>\n",
       "      <td>17.873059</td>\n",
       "      <td>4.484072</td>\n",
       "    </tr>\n",
       "    <tr>\n",
       "      <th>Chile</th>\n",
       "      <td>984</td>\n",
       "      <td>18.168437</td>\n",
       "      <td>2.246752</td>\n",
       "    </tr>\n",
       "    <tr>\n",
       "      <th>Peru</th>\n",
       "      <td>1247</td>\n",
       "      <td>17.475381</td>\n",
       "      <td>5.339201</td>\n",
       "    </tr>\n",
       "    <tr>\n",
       "      <th>Venenzuela</th>\n",
       "      <td>1148</td>\n",
       "      <td>4.574756</td>\n",
       "      <td>5.013184</td>\n",
       "    </tr>\n",
       "    <tr>\n",
       "      <th>Uruguay</th>\n",
       "      <td>1268</td>\n",
       "      <td>12.693081</td>\n",
       "      <td>4.165762</td>\n",
       "    </tr>\n",
       "    <tr>\n",
       "      <th>Brasil</th>\n",
       "      <td>1207</td>\n",
       "      <td>8.172676</td>\n",
       "      <td>5.251323</td>\n",
       "    </tr>\n",
       "  </tbody>\n",
       "</table>\n",
       "</div>"
      ],
      "text/plain": [
       "            poblacion  porcentaje  tasa_fertilidad\n",
       "Argentina        1392    3.489050         5.463993\n",
       "Bolivia           586   10.538987         1.875991\n",
       "Colombia          686   10.009894         2.828785\n",
       "Ecuador           212   17.873059         4.484072\n",
       "Chile             984   18.168437         2.246752\n",
       "Peru             1247   17.475381         5.339201\n",
       "Venenzuela       1148    4.574756         5.013184\n",
       "Uruguay          1268   12.693081         4.165762\n",
       "Brasil           1207    8.172676         5.251323"
      ]
     },
     "execution_count": 42,
     "metadata": {},
     "output_type": "execute_result"
    }
   ],
   "source": [
    "data_paises"
   ]
  },
  {
   "cell_type": "code",
   "execution_count": 43,
   "metadata": {},
   "outputs": [],
   "source": [
    "## Eliminar columnas\n",
    "#data_paises.pop('tasa_fertilidad') ## con pop se quita para procesarla por eso la retorna"
   ]
  },
  {
   "cell_type": "code",
   "execution_count": 44,
   "metadata": {},
   "outputs": [],
   "source": [
    "#del data_paises['tasa_fertilidad']"
   ]
  },
  {
   "cell_type": "code",
   "execution_count": 45,
   "metadata": {},
   "outputs": [],
   "source": [
    "## drop borra reglones y columnas\n",
    "#data_paises.drop('tasa_fertilidad', axis=1, inplace=True) # axis = 1: columna, axis=0: fila"
   ]
  },
  {
   "cell_type": "markdown",
   "metadata": {},
   "source": [
    "#### __Filas__"
   ]
  },
  {
   "cell_type": "code",
   "execution_count": 46,
   "metadata": {},
   "outputs": [
    {
     "data": {
      "text/plain": [
       "poblacion          126.00\n",
       "porcentaje           1.62\n",
       "tasa_fertilidad      1.20\n",
       "Name: Mexico, dtype: float64"
      ]
     },
     "execution_count": 46,
     "metadata": {},
     "output_type": "execute_result"
    }
   ],
   "source": [
    "## Mexico, 126, 1.62\n",
    "fila_mexico = pd.Series(name='Mexico', data=[126,1.62,1.2], index=['poblacion', 'porcentaje', 'tasa_fertilidad'])\n",
    "fila_mexico"
   ]
  },
  {
   "cell_type": "code",
   "execution_count": 47,
   "metadata": {},
   "outputs": [],
   "source": [
    "#ata_paises.loc[len(data_paises)]=fila_mexico"
   ]
  },
  {
   "cell_type": "code",
   "execution_count": 48,
   "metadata": {},
   "outputs": [],
   "source": [
    "## agregar fila\n",
    "# paises =  pd.concat([paises, renglon.to_frame().T])\n",
    "data_paises =  pd.concat([data_paises, fila_mexico.to_frame().T])"
   ]
  },
  {
   "cell_type": "code",
   "execution_count": 49,
   "metadata": {},
   "outputs": [
    {
     "data": {
      "text/html": [
       "<div>\n",
       "<style scoped>\n",
       "    .dataframe tbody tr th:only-of-type {\n",
       "        vertical-align: middle;\n",
       "    }\n",
       "\n",
       "    .dataframe tbody tr th {\n",
       "        vertical-align: top;\n",
       "    }\n",
       "\n",
       "    .dataframe thead th {\n",
       "        text-align: right;\n",
       "    }\n",
       "</style>\n",
       "<table border=\"1\" class=\"dataframe\">\n",
       "  <thead>\n",
       "    <tr style=\"text-align: right;\">\n",
       "      <th></th>\n",
       "      <th>poblacion</th>\n",
       "      <th>porcentaje</th>\n",
       "      <th>tasa_fertilidad</th>\n",
       "    </tr>\n",
       "  </thead>\n",
       "  <tbody>\n",
       "    <tr>\n",
       "      <th>Argentina</th>\n",
       "      <td>1392.0</td>\n",
       "      <td>3.489050</td>\n",
       "      <td>5.463993</td>\n",
       "    </tr>\n",
       "    <tr>\n",
       "      <th>Bolivia</th>\n",
       "      <td>586.0</td>\n",
       "      <td>10.538987</td>\n",
       "      <td>1.875991</td>\n",
       "    </tr>\n",
       "    <tr>\n",
       "      <th>Colombia</th>\n",
       "      <td>686.0</td>\n",
       "      <td>10.009894</td>\n",
       "      <td>2.828785</td>\n",
       "    </tr>\n",
       "    <tr>\n",
       "      <th>Ecuador</th>\n",
       "      <td>212.0</td>\n",
       "      <td>17.873059</td>\n",
       "      <td>4.484072</td>\n",
       "    </tr>\n",
       "    <tr>\n",
       "      <th>Chile</th>\n",
       "      <td>984.0</td>\n",
       "      <td>18.168437</td>\n",
       "      <td>2.246752</td>\n",
       "    </tr>\n",
       "    <tr>\n",
       "      <th>Peru</th>\n",
       "      <td>1247.0</td>\n",
       "      <td>17.475381</td>\n",
       "      <td>5.339201</td>\n",
       "    </tr>\n",
       "    <tr>\n",
       "      <th>Venenzuela</th>\n",
       "      <td>1148.0</td>\n",
       "      <td>4.574756</td>\n",
       "      <td>5.013184</td>\n",
       "    </tr>\n",
       "    <tr>\n",
       "      <th>Uruguay</th>\n",
       "      <td>1268.0</td>\n",
       "      <td>12.693081</td>\n",
       "      <td>4.165762</td>\n",
       "    </tr>\n",
       "    <tr>\n",
       "      <th>Brasil</th>\n",
       "      <td>1207.0</td>\n",
       "      <td>8.172676</td>\n",
       "      <td>5.251323</td>\n",
       "    </tr>\n",
       "    <tr>\n",
       "      <th>Mexico</th>\n",
       "      <td>126.0</td>\n",
       "      <td>1.620000</td>\n",
       "      <td>1.200000</td>\n",
       "    </tr>\n",
       "  </tbody>\n",
       "</table>\n",
       "</div>"
      ],
      "text/plain": [
       "            poblacion  porcentaje  tasa_fertilidad\n",
       "Argentina      1392.0    3.489050         5.463993\n",
       "Bolivia         586.0   10.538987         1.875991\n",
       "Colombia        686.0   10.009894         2.828785\n",
       "Ecuador         212.0   17.873059         4.484072\n",
       "Chile           984.0   18.168437         2.246752\n",
       "Peru           1247.0   17.475381         5.339201\n",
       "Venenzuela     1148.0    4.574756         5.013184\n",
       "Uruguay        1268.0   12.693081         4.165762\n",
       "Brasil         1207.0    8.172676         5.251323\n",
       "Mexico          126.0    1.620000         1.200000"
      ]
     },
     "execution_count": 49,
     "metadata": {},
     "output_type": "execute_result"
    }
   ],
   "source": [
    "data_paises"
   ]
  },
  {
   "cell_type": "code",
   "execution_count": 50,
   "metadata": {},
   "outputs": [
    {
     "data": {
      "text/html": [
       "<div>\n",
       "<style scoped>\n",
       "    .dataframe tbody tr th:only-of-type {\n",
       "        vertical-align: middle;\n",
       "    }\n",
       "\n",
       "    .dataframe tbody tr th {\n",
       "        vertical-align: top;\n",
       "    }\n",
       "\n",
       "    .dataframe thead th {\n",
       "        text-align: right;\n",
       "    }\n",
       "</style>\n",
       "<table border=\"1\" class=\"dataframe\">\n",
       "  <thead>\n",
       "    <tr style=\"text-align: right;\">\n",
       "      <th></th>\n",
       "      <th>poblacion</th>\n",
       "      <th>porcentaje</th>\n",
       "      <th>tasa_fertilidad</th>\n",
       "    </tr>\n",
       "  </thead>\n",
       "  <tbody>\n",
       "    <tr>\n",
       "      <th>Bolivia</th>\n",
       "      <td>586.0</td>\n",
       "      <td>10.538987</td>\n",
       "      <td>1.875991</td>\n",
       "    </tr>\n",
       "    <tr>\n",
       "      <th>Colombia</th>\n",
       "      <td>686.0</td>\n",
       "      <td>10.009894</td>\n",
       "      <td>2.828785</td>\n",
       "    </tr>\n",
       "    <tr>\n",
       "      <th>Ecuador</th>\n",
       "      <td>212.0</td>\n",
       "      <td>17.873059</td>\n",
       "      <td>4.484072</td>\n",
       "    </tr>\n",
       "    <tr>\n",
       "      <th>Chile</th>\n",
       "      <td>984.0</td>\n",
       "      <td>18.168437</td>\n",
       "      <td>2.246752</td>\n",
       "    </tr>\n",
       "    <tr>\n",
       "      <th>Venenzuela</th>\n",
       "      <td>1148.0</td>\n",
       "      <td>4.574756</td>\n",
       "      <td>5.013184</td>\n",
       "    </tr>\n",
       "    <tr>\n",
       "      <th>Uruguay</th>\n",
       "      <td>1268.0</td>\n",
       "      <td>12.693081</td>\n",
       "      <td>4.165762</td>\n",
       "    </tr>\n",
       "    <tr>\n",
       "      <th>Brasil</th>\n",
       "      <td>1207.0</td>\n",
       "      <td>8.172676</td>\n",
       "      <td>5.251323</td>\n",
       "    </tr>\n",
       "    <tr>\n",
       "      <th>Mexico</th>\n",
       "      <td>126.0</td>\n",
       "      <td>1.620000</td>\n",
       "      <td>1.200000</td>\n",
       "    </tr>\n",
       "  </tbody>\n",
       "</table>\n",
       "</div>"
      ],
      "text/plain": [
       "            poblacion  porcentaje  tasa_fertilidad\n",
       "Bolivia         586.0   10.538987         1.875991\n",
       "Colombia        686.0   10.009894         2.828785\n",
       "Ecuador         212.0   17.873059         4.484072\n",
       "Chile           984.0   18.168437         2.246752\n",
       "Venenzuela     1148.0    4.574756         5.013184\n",
       "Uruguay        1268.0   12.693081         4.165762\n",
       "Brasil         1207.0    8.172676         5.251323\n",
       "Mexico          126.0    1.620000         1.200000"
      ]
     },
     "execution_count": 50,
     "metadata": {},
     "output_type": "execute_result"
    }
   ],
   "source": [
    "## Borrar\n",
    "data_paises.drop(['Peru', 'Argentina'], axis=0) #, inplace= True)"
   ]
  },
  {
   "cell_type": "markdown",
   "metadata": {},
   "source": [
    "#### Funciones de estadistica y agregacion basicas \n",
    "Los mismos que en series "
   ]
  },
  {
   "cell_type": "code",
   "execution_count": 51,
   "metadata": {},
   "outputs": [
    {
     "data": {
      "text/html": [
       "<div>\n",
       "<style scoped>\n",
       "    .dataframe tbody tr th:only-of-type {\n",
       "        vertical-align: middle;\n",
       "    }\n",
       "\n",
       "    .dataframe tbody tr th {\n",
       "        vertical-align: top;\n",
       "    }\n",
       "\n",
       "    .dataframe thead th {\n",
       "        text-align: right;\n",
       "    }\n",
       "</style>\n",
       "<table border=\"1\" class=\"dataframe\">\n",
       "  <thead>\n",
       "    <tr style=\"text-align: right;\">\n",
       "      <th></th>\n",
       "      <th>poblacion</th>\n",
       "      <th>porcentaje</th>\n",
       "      <th>tasa_fertilidad</th>\n",
       "    </tr>\n",
       "  </thead>\n",
       "  <tbody>\n",
       "    <tr>\n",
       "      <th>count</th>\n",
       "      <td>10.000000</td>\n",
       "      <td>10.000000</td>\n",
       "      <td>10.000000</td>\n",
       "    </tr>\n",
       "    <tr>\n",
       "      <th>mean</th>\n",
       "      <td>885.600000</td>\n",
       "      <td>10.461532</td>\n",
       "      <td>3.786906</td>\n",
       "    </tr>\n",
       "    <tr>\n",
       "      <th>std</th>\n",
       "      <td>456.489552</td>\n",
       "      <td>6.104572</td>\n",
       "      <td>1.603255</td>\n",
       "    </tr>\n",
       "    <tr>\n",
       "      <th>min</th>\n",
       "      <td>126.000000</td>\n",
       "      <td>1.620000</td>\n",
       "      <td>1.200000</td>\n",
       "    </tr>\n",
       "    <tr>\n",
       "      <th>25%</th>\n",
       "      <td>611.000000</td>\n",
       "      <td>5.474236</td>\n",
       "      <td>2.392260</td>\n",
       "    </tr>\n",
       "    <tr>\n",
       "      <th>50%</th>\n",
       "      <td>1066.000000</td>\n",
       "      <td>10.274441</td>\n",
       "      <td>4.324917</td>\n",
       "    </tr>\n",
       "    <tr>\n",
       "      <th>75%</th>\n",
       "      <td>1237.000000</td>\n",
       "      <td>16.279806</td>\n",
       "      <td>5.191788</td>\n",
       "    </tr>\n",
       "    <tr>\n",
       "      <th>max</th>\n",
       "      <td>1392.000000</td>\n",
       "      <td>18.168437</td>\n",
       "      <td>5.463993</td>\n",
       "    </tr>\n",
       "  </tbody>\n",
       "</table>\n",
       "</div>"
      ],
      "text/plain": [
       "         poblacion  porcentaje  tasa_fertilidad\n",
       "count    10.000000   10.000000        10.000000\n",
       "mean    885.600000   10.461532         3.786906\n",
       "std     456.489552    6.104572         1.603255\n",
       "min     126.000000    1.620000         1.200000\n",
       "25%     611.000000    5.474236         2.392260\n",
       "50%    1066.000000   10.274441         4.324917\n",
       "75%    1237.000000   16.279806         5.191788\n",
       "max    1392.000000   18.168437         5.463993"
      ]
     },
     "execution_count": 51,
     "metadata": {},
     "output_type": "execute_result"
    }
   ],
   "source": [
    "data_paises.describe()"
   ]
  },
  {
   "cell_type": "markdown",
   "metadata": {},
   "source": [
    "#### Cargar datos\n",
    "##### Archivo CSV\n",
    "__pd.read_csv('direccion', index_col = num_columna, usecols=[0,1,4], nrows = 3, skiprows = numero de filas a quitar arriba,  skipfooter = 1, engine = 'python' )__\n",
    "* index_col: set como index alguna de las columnas\n",
    "* usecols: carga solo las columnas que le especifique\n",
    "* nrows:  carga solo las filas que se especifiquen\n",
    "* header: encabezado (__None__ si no hay)\n",
    "* names: si hay encabezados se pasa la lista con los nombre \n",
    "* skiprows: Para quitar elementos basura por arriba del doc y por debajo\n",
    "* skipfooter: quitar los filas abajo que no quiero cargar (para quitar la advertencia de ejecucion en C se agrega engine = 'python')\n",
    "\n",
    "##### Archivo Excel\n",
    "__pd.read_excel('direccion', index_col = 0, skiprows = 1, sheet_name = None)__\n",
    "\n",
    "* sheet_name: cargar todas las pestañas del archivo excel, se crean un diccionario con la informacion de cada hoja. Con __None__ se cargan todas las hojas. Para cargar una especifica le paso el nombre de la hoja "
   ]
  },
  {
   "cell_type": "markdown",
   "metadata": {},
   "source": [
    "## Filtros Pandas"
   ]
  },
  {
   "cell_type": "code",
   "execution_count": 9,
   "metadata": {},
   "outputs": [],
   "source": [
    "import pandas as pd\n",
    "import os"
   ]
  },
  {
   "cell_type": "code",
   "execution_count": 6,
   "metadata": {},
   "outputs": [],
   "source": [
    "datos_paises = {'pais': ['Estados Unidos', 'China', 'Brasil', 'India', 'Mexico', 'Colombia'],\n",
    "         'km2': [9833517,9600000,8515767,3287263,1964375,1141748]}\n",
    "paises =  pd.DataFrame(datos_paises)"
   ]
  },
  {
   "cell_type": "markdown",
   "metadata": {},
   "source": [
    "#### Filtrado más básico"
   ]
  },
  {
   "cell_type": "code",
   "execution_count": 7,
   "metadata": {},
   "outputs": [
    {
     "data": {
      "text/html": [
       "<div>\n",
       "<style scoped>\n",
       "    .dataframe tbody tr th:only-of-type {\n",
       "        vertical-align: middle;\n",
       "    }\n",
       "\n",
       "    .dataframe tbody tr th {\n",
       "        vertical-align: top;\n",
       "    }\n",
       "\n",
       "    .dataframe thead th {\n",
       "        text-align: right;\n",
       "    }\n",
       "</style>\n",
       "<table border=\"1\" class=\"dataframe\">\n",
       "  <thead>\n",
       "    <tr style=\"text-align: right;\">\n",
       "      <th></th>\n",
       "      <th>pais</th>\n",
       "      <th>km2</th>\n",
       "    </tr>\n",
       "  </thead>\n",
       "  <tbody>\n",
       "    <tr>\n",
       "      <th>0</th>\n",
       "      <td>Estados Unidos</td>\n",
       "      <td>9833517</td>\n",
       "    </tr>\n",
       "    <tr>\n",
       "      <th>5</th>\n",
       "      <td>Colombia</td>\n",
       "      <td>1141748</td>\n",
       "    </tr>\n",
       "  </tbody>\n",
       "</table>\n",
       "</div>"
      ],
      "text/plain": [
       "             pais      km2\n",
       "0  Estados Unidos  9833517\n",
       "5        Colombia  1141748"
      ]
     },
     "execution_count": 7,
     "metadata": {},
     "output_type": "execute_result"
    }
   ],
   "source": [
    "## MEdiante datos booleanos\n",
    "filtro = [True,False,False, False, False,True]\n",
    "paises[filtro]\n",
    "\n",
    "# filtro = ['Estados Unidos', 'Colombia']"
   ]
  },
  {
   "cell_type": "markdown",
   "metadata": {},
   "source": [
    "#### Crear un filtro para paises con superficie mayor a 3287263 km2"
   ]
  },
  {
   "cell_type": "code",
   "execution_count": 8,
   "metadata": {},
   "outputs": [
    {
     "data": {
      "text/html": [
       "<div>\n",
       "<style scoped>\n",
       "    .dataframe tbody tr th:only-of-type {\n",
       "        vertical-align: middle;\n",
       "    }\n",
       "\n",
       "    .dataframe tbody tr th {\n",
       "        vertical-align: top;\n",
       "    }\n",
       "\n",
       "    .dataframe thead th {\n",
       "        text-align: right;\n",
       "    }\n",
       "</style>\n",
       "<table border=\"1\" class=\"dataframe\">\n",
       "  <thead>\n",
       "    <tr style=\"text-align: right;\">\n",
       "      <th></th>\n",
       "      <th>pais</th>\n",
       "      <th>km2</th>\n",
       "    </tr>\n",
       "  </thead>\n",
       "  <tbody>\n",
       "    <tr>\n",
       "      <th>0</th>\n",
       "      <td>Estados Unidos</td>\n",
       "      <td>9833517</td>\n",
       "    </tr>\n",
       "    <tr>\n",
       "      <th>1</th>\n",
       "      <td>China</td>\n",
       "      <td>9600000</td>\n",
       "    </tr>\n",
       "    <tr>\n",
       "      <th>2</th>\n",
       "      <td>Brasil</td>\n",
       "      <td>8515767</td>\n",
       "    </tr>\n",
       "  </tbody>\n",
       "</table>\n",
       "</div>"
      ],
      "text/plain": [
       "             pais      km2\n",
       "0  Estados Unidos  9833517\n",
       "1           China  9600000\n",
       "2          Brasil  8515767"
      ]
     },
     "execution_count": 8,
     "metadata": {},
     "output_type": "execute_result"
    }
   ],
   "source": [
    "filtro_km = paises['km2']>3287263 ## Retorna numpy array booleano\n",
    "paises[filtro]\n",
    "\n",
    "## Esta instruccion funciona igual que arriba\n",
    "paises[paises['km2']>3287263]\n"
   ]
  },
  {
   "cell_type": "markdown",
   "metadata": {},
   "source": [
    "### Cargar datos de csv paises"
   ]
  },
  {
   "cell_type": "code",
   "execution_count": 13,
   "metadata": {},
   "outputs": [],
   "source": [
    "ruta_paises =  r'C:\\Users\\USUARIO\\Documents\\Python Scripts\\ML\\Scripts\\DATA_TOOLS\\PANDAS\\datos_paises.csv'\n",
    "ruta_paises = ruta_paises.replace(os.sep,'/')\n",
    "\n",
    "paises_file = pd.read_csv(ruta_paises, index_col=0)"
   ]
  },
  {
   "cell_type": "code",
   "execution_count": 14,
   "metadata": {},
   "outputs": [
    {
     "data": {
      "text/html": [
       "<div>\n",
       "<style scoped>\n",
       "    .dataframe tbody tr th:only-of-type {\n",
       "        vertical-align: middle;\n",
       "    }\n",
       "\n",
       "    .dataframe tbody tr th {\n",
       "        vertical-align: top;\n",
       "    }\n",
       "\n",
       "    .dataframe thead th {\n",
       "        text-align: right;\n",
       "    }\n",
       "</style>\n",
       "<table border=\"1\" class=\"dataframe\">\n",
       "  <thead>\n",
       "    <tr style=\"text-align: right;\">\n",
       "      <th></th>\n",
       "      <th>continente</th>\n",
       "      <th>km2</th>\n",
       "      <th>poblacion_miles</th>\n",
       "    </tr>\n",
       "    <tr>\n",
       "      <th>pais</th>\n",
       "      <th></th>\n",
       "      <th></th>\n",
       "      <th></th>\n",
       "    </tr>\n",
       "  </thead>\n",
       "  <tbody>\n",
       "    <tr>\n",
       "      <th>China</th>\n",
       "      <td>Asia</td>\n",
       "      <td>9600000.0</td>\n",
       "      <td>1409517</td>\n",
       "    </tr>\n",
       "    <tr>\n",
       "      <th>India</th>\n",
       "      <td>Asia</td>\n",
       "      <td>3287263.0</td>\n",
       "      <td>1339180</td>\n",
       "    </tr>\n",
       "    <tr>\n",
       "      <th>United States of America</th>\n",
       "      <td>America</td>\n",
       "      <td>9833517.0</td>\n",
       "      <td>324460</td>\n",
       "    </tr>\n",
       "    <tr>\n",
       "      <th>Indonesia</th>\n",
       "      <td>Asia</td>\n",
       "      <td>1910931.0</td>\n",
       "      <td>263991</td>\n",
       "    </tr>\n",
       "    <tr>\n",
       "      <th>Brazil</th>\n",
       "      <td>America</td>\n",
       "      <td>8515767.0</td>\n",
       "      <td>209288</td>\n",
       "    </tr>\n",
       "    <tr>\n",
       "      <th>...</th>\n",
       "      <td>...</td>\n",
       "      <td>...</td>\n",
       "      <td>...</td>\n",
       "    </tr>\n",
       "    <tr>\n",
       "      <th>Saint Helena</th>\n",
       "      <td>Africa</td>\n",
       "      <td>308.0</td>\n",
       "      <td>4</td>\n",
       "    </tr>\n",
       "    <tr>\n",
       "      <th>Falkland Islands (Malvinas)</th>\n",
       "      <td>America</td>\n",
       "      <td>12173.0</td>\n",
       "      <td>3</td>\n",
       "    </tr>\n",
       "    <tr>\n",
       "      <th>Niue</th>\n",
       "      <td>Oceania</td>\n",
       "      <td>260.0</td>\n",
       "      <td>2</td>\n",
       "    </tr>\n",
       "    <tr>\n",
       "      <th>Holy See</th>\n",
       "      <td>Europa</td>\n",
       "      <td>1.0</td>\n",
       "      <td>1</td>\n",
       "    </tr>\n",
       "    <tr>\n",
       "      <th>Tokelau</th>\n",
       "      <td>Oceania</td>\n",
       "      <td>12.0</td>\n",
       "      <td>1</td>\n",
       "    </tr>\n",
       "  </tbody>\n",
       "</table>\n",
       "<p>229 rows × 3 columns</p>\n",
       "</div>"
      ],
      "text/plain": [
       "                            continente        km2  poblacion_miles\n",
       "pais                                                              \n",
       "China                             Asia  9600000.0          1409517\n",
       "India                             Asia  3287263.0          1339180\n",
       "United States of America       America  9833517.0           324460\n",
       "Indonesia                         Asia  1910931.0           263991\n",
       "Brazil                         America  8515767.0           209288\n",
       "...                                ...        ...              ...\n",
       "Saint Helena                    Africa      308.0                4\n",
       "Falkland Islands (Malvinas)    America    12173.0                3\n",
       "Niue                           Oceania      260.0                2\n",
       "Holy See                        Europa        1.0                1\n",
       "Tokelau                        Oceania       12.0                1\n",
       "\n",
       "[229 rows x 3 columns]"
      ]
     },
     "execution_count": 14,
     "metadata": {},
     "output_type": "execute_result"
    }
   ],
   "source": [
    "paises_file"
   ]
  },
  {
   "cell_type": "markdown",
   "metadata": {},
   "source": [
    "##### Seleccion paises de extension pequeña menores a 50 km2\n"
   ]
  },
  {
   "cell_type": "code",
   "execution_count": 16,
   "metadata": {},
   "outputs": [
    {
     "data": {
      "text/html": [
       "<div>\n",
       "<style scoped>\n",
       "    .dataframe tbody tr th:only-of-type {\n",
       "        vertical-align: middle;\n",
       "    }\n",
       "\n",
       "    .dataframe tbody tr th {\n",
       "        vertical-align: top;\n",
       "    }\n",
       "\n",
       "    .dataframe thead th {\n",
       "        text-align: right;\n",
       "    }\n",
       "</style>\n",
       "<table border=\"1\" class=\"dataframe\">\n",
       "  <thead>\n",
       "    <tr style=\"text-align: right;\">\n",
       "      <th></th>\n",
       "      <th>continente</th>\n",
       "      <th>km2</th>\n",
       "      <th>poblacion_miles</th>\n",
       "    </tr>\n",
       "    <tr>\n",
       "      <th>pais</th>\n",
       "      <th></th>\n",
       "      <th></th>\n",
       "      <th></th>\n",
       "    </tr>\n",
       "  </thead>\n",
       "  <tbody>\n",
       "    <tr>\n",
       "      <th>China, Macao SAR</th>\n",
       "      <td>Asia</td>\n",
       "      <td>30.0</td>\n",
       "      <td>623</td>\n",
       "    </tr>\n",
       "    <tr>\n",
       "      <th>Sint Maarten (Dutch part)</th>\n",
       "      <td>America</td>\n",
       "      <td>34.0</td>\n",
       "      <td>40</td>\n",
       "    </tr>\n",
       "    <tr>\n",
       "      <th>Monaco</th>\n",
       "      <td>Europa</td>\n",
       "      <td>2.0</td>\n",
       "      <td>39</td>\n",
       "    </tr>\n",
       "    <tr>\n",
       "      <th>Gibraltar</th>\n",
       "      <td>Europa</td>\n",
       "      <td>6.0</td>\n",
       "      <td>35</td>\n",
       "    </tr>\n",
       "    <tr>\n",
       "      <th>Bonaire, Sint Eustatius and Saba</th>\n",
       "      <td>America</td>\n",
       "      <td>1.0</td>\n",
       "      <td>25</td>\n",
       "    </tr>\n",
       "    <tr>\n",
       "      <th>Nauru</th>\n",
       "      <td>Oceania</td>\n",
       "      <td>21.0</td>\n",
       "      <td>11</td>\n",
       "    </tr>\n",
       "    <tr>\n",
       "      <th>Tuvalu</th>\n",
       "      <td>Oceania</td>\n",
       "      <td>26.0</td>\n",
       "      <td>11</td>\n",
       "    </tr>\n",
       "    <tr>\n",
       "      <th>Holy See</th>\n",
       "      <td>Europa</td>\n",
       "      <td>1.0</td>\n",
       "      <td>1</td>\n",
       "    </tr>\n",
       "    <tr>\n",
       "      <th>Tokelau</th>\n",
       "      <td>Oceania</td>\n",
       "      <td>12.0</td>\n",
       "      <td>1</td>\n",
       "    </tr>\n",
       "  </tbody>\n",
       "</table>\n",
       "</div>"
      ],
      "text/plain": [
       "                                 continente   km2  poblacion_miles\n",
       "pais                                                              \n",
       "China, Macao SAR                       Asia  30.0              623\n",
       "Sint Maarten (Dutch part)           America  34.0               40\n",
       "Monaco                               Europa   2.0               39\n",
       "Gibraltar                            Europa   6.0               35\n",
       "Bonaire, Sint Eustatius and Saba    America   1.0               25\n",
       "Nauru                               Oceania  21.0               11\n",
       "Tuvalu                              Oceania  26.0               11\n",
       "Holy See                             Europa   1.0                1\n",
       "Tokelau                             Oceania  12.0                1"
      ]
     },
     "execution_count": 16,
     "metadata": {},
     "output_type": "execute_result"
    }
   ],
   "source": [
    "paises_file[paises_file['km2']<50]"
   ]
  },
  {
   "cell_type": "markdown",
   "metadata": {},
   "source": [
    "#### Seleccion de paises pequeños pero altemaneto poblados menor a 50km2 y poblacion mayor a 500"
   ]
  },
  {
   "cell_type": "code",
   "execution_count": 17,
   "metadata": {},
   "outputs": [
    {
     "data": {
      "text/html": [
       "<div>\n",
       "<style scoped>\n",
       "    .dataframe tbody tr th:only-of-type {\n",
       "        vertical-align: middle;\n",
       "    }\n",
       "\n",
       "    .dataframe tbody tr th {\n",
       "        vertical-align: top;\n",
       "    }\n",
       "\n",
       "    .dataframe thead th {\n",
       "        text-align: right;\n",
       "    }\n",
       "</style>\n",
       "<table border=\"1\" class=\"dataframe\">\n",
       "  <thead>\n",
       "    <tr style=\"text-align: right;\">\n",
       "      <th></th>\n",
       "      <th>continente</th>\n",
       "      <th>km2</th>\n",
       "      <th>poblacion_miles</th>\n",
       "    </tr>\n",
       "    <tr>\n",
       "      <th>pais</th>\n",
       "      <th></th>\n",
       "      <th></th>\n",
       "      <th></th>\n",
       "    </tr>\n",
       "  </thead>\n",
       "  <tbody>\n",
       "    <tr>\n",
       "      <th>China, Macao SAR</th>\n",
       "      <td>Asia</td>\n",
       "      <td>30.0</td>\n",
       "      <td>623</td>\n",
       "    </tr>\n",
       "  </tbody>\n",
       "</table>\n",
       "</div>"
      ],
      "text/plain": [
       "                 continente   km2  poblacion_miles\n",
       "pais                                              \n",
       "China, Macao SAR       Asia  30.0              623"
      ]
     },
     "execution_count": 17,
     "metadata": {},
     "output_type": "execute_result"
    }
   ],
   "source": [
    "paises_file[(paises_file['km2']<50)&(paises_file['poblacion_miles']>500)]"
   ]
  },
  {
   "cell_type": "markdown",
   "metadata": {},
   "source": [
    "#### Seleccion de paises pequeños o poco poblados; menor a 5 km2 o poblacion menor a 5"
   ]
  },
  {
   "cell_type": "code",
   "execution_count": 18,
   "metadata": {},
   "outputs": [
    {
     "data": {
      "text/html": [
       "<div>\n",
       "<style scoped>\n",
       "    .dataframe tbody tr th:only-of-type {\n",
       "        vertical-align: middle;\n",
       "    }\n",
       "\n",
       "    .dataframe tbody tr th {\n",
       "        vertical-align: top;\n",
       "    }\n",
       "\n",
       "    .dataframe thead th {\n",
       "        text-align: right;\n",
       "    }\n",
       "</style>\n",
       "<table border=\"1\" class=\"dataframe\">\n",
       "  <thead>\n",
       "    <tr style=\"text-align: right;\">\n",
       "      <th></th>\n",
       "      <th>continente</th>\n",
       "      <th>km2</th>\n",
       "      <th>poblacion_miles</th>\n",
       "    </tr>\n",
       "    <tr>\n",
       "      <th>pais</th>\n",
       "      <th></th>\n",
       "      <th></th>\n",
       "      <th></th>\n",
       "    </tr>\n",
       "  </thead>\n",
       "  <tbody>\n",
       "    <tr>\n",
       "      <th>Monaco</th>\n",
       "      <td>Europa</td>\n",
       "      <td>2.0</td>\n",
       "      <td>39</td>\n",
       "    </tr>\n",
       "    <tr>\n",
       "      <th>Bonaire, Sint Eustatius and Saba</th>\n",
       "      <td>America</td>\n",
       "      <td>1.0</td>\n",
       "      <td>25</td>\n",
       "    </tr>\n",
       "    <tr>\n",
       "      <th>Saint Helena</th>\n",
       "      <td>Africa</td>\n",
       "      <td>308.0</td>\n",
       "      <td>4</td>\n",
       "    </tr>\n",
       "    <tr>\n",
       "      <th>Falkland Islands (Malvinas)</th>\n",
       "      <td>America</td>\n",
       "      <td>12173.0</td>\n",
       "      <td>3</td>\n",
       "    </tr>\n",
       "    <tr>\n",
       "      <th>Niue</th>\n",
       "      <td>Oceania</td>\n",
       "      <td>260.0</td>\n",
       "      <td>2</td>\n",
       "    </tr>\n",
       "    <tr>\n",
       "      <th>Holy See</th>\n",
       "      <td>Europa</td>\n",
       "      <td>1.0</td>\n",
       "      <td>1</td>\n",
       "    </tr>\n",
       "    <tr>\n",
       "      <th>Tokelau</th>\n",
       "      <td>Oceania</td>\n",
       "      <td>12.0</td>\n",
       "      <td>1</td>\n",
       "    </tr>\n",
       "  </tbody>\n",
       "</table>\n",
       "</div>"
      ],
      "text/plain": [
       "                                 continente      km2  poblacion_miles\n",
       "pais                                                                 \n",
       "Monaco                               Europa      2.0               39\n",
       "Bonaire, Sint Eustatius and Saba    America      1.0               25\n",
       "Saint Helena                         Africa    308.0                4\n",
       "Falkland Islands (Malvinas)         America  12173.0                3\n",
       "Niue                                Oceania    260.0                2\n",
       "Holy See                             Europa      1.0                1\n",
       "Tokelau                             Oceania     12.0                1"
      ]
     },
     "execution_count": 18,
     "metadata": {},
     "output_type": "execute_result"
    }
   ],
   "source": [
    "paises_file[(paises_file['km2']<5) | (paises_file['poblacion_miles']<5)]"
   ]
  },
  {
   "cell_type": "markdown",
   "metadata": {},
   "source": [
    "#### Seleccion de paises pequeños, poco poblados y europeos; menor a 50 km2 o poblacion menor a 50"
   ]
  },
  {
   "cell_type": "code",
   "execution_count": 19,
   "metadata": {},
   "outputs": [
    {
     "data": {
      "text/html": [
       "<div>\n",
       "<style scoped>\n",
       "    .dataframe tbody tr th:only-of-type {\n",
       "        vertical-align: middle;\n",
       "    }\n",
       "\n",
       "    .dataframe tbody tr th {\n",
       "        vertical-align: top;\n",
       "    }\n",
       "\n",
       "    .dataframe thead th {\n",
       "        text-align: right;\n",
       "    }\n",
       "</style>\n",
       "<table border=\"1\" class=\"dataframe\">\n",
       "  <thead>\n",
       "    <tr style=\"text-align: right;\">\n",
       "      <th></th>\n",
       "      <th>continente</th>\n",
       "      <th>km2</th>\n",
       "      <th>poblacion_miles</th>\n",
       "    </tr>\n",
       "    <tr>\n",
       "      <th>pais</th>\n",
       "      <th></th>\n",
       "      <th></th>\n",
       "      <th></th>\n",
       "    </tr>\n",
       "  </thead>\n",
       "  <tbody>\n",
       "    <tr>\n",
       "      <th>Faroe Islands</th>\n",
       "      <td>Europa</td>\n",
       "      <td>1393.0</td>\n",
       "      <td>49</td>\n",
       "    </tr>\n",
       "    <tr>\n",
       "      <th>Monaco</th>\n",
       "      <td>Europa</td>\n",
       "      <td>2.0</td>\n",
       "      <td>39</td>\n",
       "    </tr>\n",
       "    <tr>\n",
       "      <th>Liechtenstein</th>\n",
       "      <td>Europa</td>\n",
       "      <td>160.0</td>\n",
       "      <td>38</td>\n",
       "    </tr>\n",
       "    <tr>\n",
       "      <th>Gibraltar</th>\n",
       "      <td>Europa</td>\n",
       "      <td>6.0</td>\n",
       "      <td>35</td>\n",
       "    </tr>\n",
       "    <tr>\n",
       "      <th>San Marino</th>\n",
       "      <td>Europa</td>\n",
       "      <td>61.0</td>\n",
       "      <td>33</td>\n",
       "    </tr>\n",
       "    <tr>\n",
       "      <th>Holy See</th>\n",
       "      <td>Europa</td>\n",
       "      <td>1.0</td>\n",
       "      <td>1</td>\n",
       "    </tr>\n",
       "  </tbody>\n",
       "</table>\n",
       "</div>"
      ],
      "text/plain": [
       "              continente     km2  poblacion_miles\n",
       "pais                                             \n",
       "Faroe Islands     Europa  1393.0               49\n",
       "Monaco            Europa     2.0               39\n",
       "Liechtenstein     Europa   160.0               38\n",
       "Gibraltar         Europa     6.0               35\n",
       "San Marino        Europa    61.0               33\n",
       "Holy See          Europa     1.0                1"
      ]
     },
     "execution_count": 19,
     "metadata": {},
     "output_type": "execute_result"
    }
   ],
   "source": [
    "paises_file[(paises_file['continente']=='Europa') & ((paises_file['km2']<50) | (paises_file['poblacion_miles']<50))]"
   ]
  },
  {
   "cell_type": "markdown",
   "metadata": {},
   "source": [
    "#### Seleccion de paises pequeños, poco poblados y no europeos; menor a 50 km2 o poblacion menor a 50"
   ]
  },
  {
   "cell_type": "code",
   "execution_count": 24,
   "metadata": {},
   "outputs": [
    {
     "data": {
      "text/html": [
       "<div>\n",
       "<style scoped>\n",
       "    .dataframe tbody tr th:only-of-type {\n",
       "        vertical-align: middle;\n",
       "    }\n",
       "\n",
       "    .dataframe tbody tr th {\n",
       "        vertical-align: top;\n",
       "    }\n",
       "\n",
       "    .dataframe thead th {\n",
       "        text-align: right;\n",
       "    }\n",
       "</style>\n",
       "<table border=\"1\" class=\"dataframe\">\n",
       "  <thead>\n",
       "    <tr style=\"text-align: right;\">\n",
       "      <th></th>\n",
       "      <th>continente</th>\n",
       "      <th>km2</th>\n",
       "      <th>poblacion_miles</th>\n",
       "    </tr>\n",
       "    <tr>\n",
       "      <th>pais</th>\n",
       "      <th></th>\n",
       "      <th></th>\n",
       "      <th></th>\n",
       "    </tr>\n",
       "  </thead>\n",
       "  <tbody>\n",
       "    <tr>\n",
       "      <th>Sint Maarten (Dutch part)</th>\n",
       "      <td>America</td>\n",
       "      <td>34.0</td>\n",
       "      <td>40</td>\n",
       "    </tr>\n",
       "    <tr>\n",
       "      <th>Bonaire, Sint Eustatius and Saba</th>\n",
       "      <td>America</td>\n",
       "      <td>1.0</td>\n",
       "      <td>25</td>\n",
       "    </tr>\n",
       "    <tr>\n",
       "      <th>Nauru</th>\n",
       "      <td>Oceania</td>\n",
       "      <td>21.0</td>\n",
       "      <td>11</td>\n",
       "    </tr>\n",
       "    <tr>\n",
       "      <th>Tuvalu</th>\n",
       "      <td>Oceania</td>\n",
       "      <td>26.0</td>\n",
       "      <td>11</td>\n",
       "    </tr>\n",
       "    <tr>\n",
       "      <th>Tokelau</th>\n",
       "      <td>Oceania</td>\n",
       "      <td>12.0</td>\n",
       "      <td>1</td>\n",
       "    </tr>\n",
       "  </tbody>\n",
       "</table>\n",
       "</div>"
      ],
      "text/plain": [
       "                                 continente   km2  poblacion_miles\n",
       "pais                                                              \n",
       "Sint Maarten (Dutch part)           America  34.0               40\n",
       "Bonaire, Sint Eustatius and Saba    America   1.0               25\n",
       "Nauru                               Oceania  21.0               11\n",
       "Tuvalu                              Oceania  26.0               11\n",
       "Tokelau                             Oceania  12.0                1"
      ]
     },
     "execution_count": 24,
     "metadata": {},
     "output_type": "execute_result"
    }
   ],
   "source": [
    "paises_file[~(paises_file['continente']=='Europa') & (paises_file['km2']<50) & (paises_file['poblacion_miles']<50)]"
   ]
  },
  {
   "cell_type": "code",
   "execution_count": null,
   "metadata": {},
   "outputs": [],
   "source": []
  }
 ],
 "metadata": {
  "kernelspec": {
   "display_name": "ML",
   "language": "python",
   "name": "python3"
  },
  "language_info": {
   "codemirror_mode": {
    "name": "ipython",
    "version": 3
   },
   "file_extension": ".py",
   "mimetype": "text/x-python",
   "name": "python",
   "nbconvert_exporter": "python",
   "pygments_lexer": "ipython3",
   "version": "3.11.4"
  }
 },
 "nbformat": 4,
 "nbformat_minor": 2
}
